{
  "nbformat": 4,
  "nbformat_minor": 0,
  "metadata": {
    "colab": {
      "name": "0804-Linear_Regression.ipynb",
      "provenance": [],
      "authorship_tag": "ABX9TyPJKTDe9s0ujVrXF2TC3hZn",
      "include_colab_link": true
    },
    "kernelspec": {
      "name": "python3",
      "display_name": "Python 3"
    },
    "language_info": {
      "name": "python"
    }
  },
  "cells": [
    {
      "cell_type": "markdown",
      "metadata": {
        "id": "view-in-github",
        "colab_type": "text"
      },
      "source": [
        "<a href=\"https://colab.research.google.com/github/boing-86/Daily_Study/blob/main/0804_Linear_Regression.ipynb\" target=\"_parent\"><img src=\"https://colab.research.google.com/assets/colab-badge.svg\" alt=\"Open In Colab\"/></a>"
      ]
    },
    {
      "cell_type": "code",
      "execution_count": 13,
      "metadata": {
        "id": "JhTvbF_jlgfB"
      },
      "outputs": [],
      "source": [
        "import torch"
      ]
    },
    {
      "cell_type": "code",
      "source": [
        "x_train = torch.FloatTensor([[1],[2],[3]])\n",
        "y_train = torch.FloatTensor([[2], [4], [6]])"
      ],
      "metadata": {
        "id": "-JU-UYUmljWK"
      },
      "execution_count": 14,
      "outputs": []
    },
    {
      "cell_type": "code",
      "source": [
        "w = torch.zeros(1, requires_grad = True)\n",
        "b = torch.zeros(1, requires_grad = True)"
      ],
      "metadata": {
        "id": "KUOqKLbhltSs"
      },
      "execution_count": 15,
      "outputs": []
    },
    {
      "cell_type": "code",
      "source": [
        "optimizer = torch.optim.SGD([w, b], lr = 0.01)\n",
        "epochs = 1000\n",
        "\n",
        "for epoch in range(0, epochs):\n",
        "  hypothesis = x_train*w + b\n",
        "  cost = torch.mean((hypothesis - y_train)**2)\n",
        "  optimizer.zero_grad() #gradient 초기화\n",
        "  cost.backward() #gradient 계산\n",
        "  optimizer.step() #gradient 개선"
      ],
      "metadata": {
        "id": "-Sa2zDZ-mOYV"
      },
      "execution_count": 16,
      "outputs": []
    },
    {
      "cell_type": "code",
      "source": [
        "print(w*4 + b)"
      ],
      "metadata": {
        "colab": {
          "base_uri": "https://localhost:8080/"
        },
        "id": "SVYdmWuTmX8g",
        "outputId": "f7d1ed29-f3a7-4b74-eee2-b52465298ae6"
      },
      "execution_count": 22,
      "outputs": [
        {
          "output_type": "stream",
          "name": "stdout",
          "text": [
            "tensor([7.9495], grad_fn=<AddBackward0>)\n"
          ]
        }
      ]
    },
    {
      "cell_type": "markdown",
      "source": [
        "### Multivariable Regression"
      ],
      "metadata": {
        "id": "8HqDoa2WpQa1"
      }
    },
    {
      "cell_type": "code",
      "source": [
        "x_train = torch.FloatTensor([[73, 80, 75],\n",
        "                            [93, 88, 93],\n",
        "                            [89, 91, 80],\n",
        "                            [96, 98, 100],\n",
        "                            [73, 66, 70]])\n",
        "y_train = torch.FloatTensor([[152], [185], [180], [196], [142]])\n",
        "\n",
        "w = torch.zeros((3, 1), requires_grad=True)\n",
        "b = torch.zeros(1, requires_grad=True)\n",
        "\n",
        "optimizer = torch.optim.SGD([w, b], lr = 1e-5)\n",
        "epochs = 50\n",
        "\n",
        "for epoch in range(0, epochs):\n",
        "  hypothesis = x_train.matmul(w) + b\n",
        "  cost = torch.mean((hypothesis - y_train)**2)\n",
        "  optimizer.zero_grad()\n",
        "  cost.backward()\n",
        "  optimizer.step()\n",
        "\n",
        "  print('Epoch {:4d}/{} hypothesis:{} Cost: {:.6f}'.format(\n",
        "      epoch, epochs, hypothesis.squeeze().detach(),cost.item()))"
      ],
      "metadata": {
        "colab": {
          "base_uri": "https://localhost:8080/"
        },
        "id": "xnIE4CxBpPpd",
        "outputId": "4c6189b8-b181-48e7-bea1-46b0d437f83c"
      },
      "execution_count": 35,
      "outputs": [
        {
          "output_type": "stream",
          "name": "stdout",
          "text": [
            "Epoch    0/50 hypothesis:tensor([0., 0., 0., 0., 0.]) Cost: 29661.800781\n",
            "Epoch    1/50 hypothesis:tensor([66.7178, 80.1701, 76.1025, 86.0194, 61.1565]) Cost: 9537.694336\n",
            "Epoch    2/50 hypothesis:tensor([104.5421, 125.6208, 119.2478, 134.7862,  95.8280]) Cost: 3069.590088\n",
            "Epoch    3/50 hypothesis:tensor([125.9858, 151.3882, 143.7087, 162.4333, 115.4844]) Cost: 990.670288\n",
            "Epoch    4/50 hypothesis:tensor([138.1429, 165.9963, 157.5768, 178.1071, 126.6283]) Cost: 322.481873\n",
            "Epoch    5/50 hypothesis:tensor([145.0350, 174.2780, 165.4395, 186.9928, 132.9461]) Cost: 107.717064\n",
            "Epoch    6/50 hypothesis:tensor([148.9423, 178.9730, 169.8976, 192.0301, 136.5279]) Cost: 38.687496\n",
            "Epoch    7/50 hypothesis:tensor([151.1574, 181.6346, 172.4254, 194.8856, 138.5585]) Cost: 16.499043\n",
            "Epoch    8/50 hypothesis:tensor([152.4131, 183.1435, 173.8590, 196.5043, 139.7097]) Cost: 9.365656\n",
            "Epoch    9/50 hypothesis:tensor([153.1250, 183.9988, 174.6723, 197.4217, 140.3625]) Cost: 7.071114\n",
            "Epoch   10/50 hypothesis:tensor([153.5285, 184.4835, 175.1338, 197.9415, 140.7325]) Cost: 6.331847\n",
            "Epoch   11/50 hypothesis:tensor([153.7572, 184.7582, 175.3958, 198.2360, 140.9424]) Cost: 6.092532\n",
            "Epoch   12/50 hypothesis:tensor([153.8868, 184.9138, 175.5449, 198.4026, 141.0613]) Cost: 6.013817\n",
            "Epoch   13/50 hypothesis:tensor([153.9602, 185.0019, 175.6299, 198.4969, 141.1288]) Cost: 5.986785\n",
            "Epoch   14/50 hypothesis:tensor([154.0017, 185.0517, 175.6785, 198.5500, 141.1671]) Cost: 5.976325\n",
            "Epoch   15/50 hypothesis:tensor([154.0252, 185.0798, 175.7065, 198.5800, 141.1888]) Cost: 5.971208\n",
            "Epoch   16/50 hypothesis:tensor([154.0385, 185.0956, 175.7229, 198.5966, 141.2012]) Cost: 5.967835\n",
            "Epoch   17/50 hypothesis:tensor([154.0459, 185.1045, 175.7326, 198.6059, 141.2082]) Cost: 5.964969\n",
            "Epoch   18/50 hypothesis:tensor([154.0501, 185.1094, 175.7386, 198.6108, 141.2122]) Cost: 5.962291\n",
            "Epoch   19/50 hypothesis:tensor([154.0524, 185.1120, 175.7424, 198.6134, 141.2145]) Cost: 5.959664\n",
            "Epoch   20/50 hypothesis:tensor([154.0536, 185.1134, 175.7451, 198.6145, 141.2158]) Cost: 5.957089\n",
            "Epoch   21/50 hypothesis:tensor([154.0543, 185.1140, 175.7470, 198.6150, 141.2166]) Cost: 5.954494\n",
            "Epoch   22/50 hypothesis:tensor([154.0546, 185.1143, 175.7486, 198.6150, 141.2171]) Cost: 5.951927\n",
            "Epoch   23/50 hypothesis:tensor([154.0547, 185.1143, 175.7500, 198.6147, 141.2173]) Cost: 5.949370\n",
            "Epoch   24/50 hypothesis:tensor([154.0546, 185.1142, 175.7512, 198.6143, 141.2175]) Cost: 5.946794\n",
            "Epoch   25/50 hypothesis:tensor([154.0546, 185.1140, 175.7523, 198.6138, 141.2177]) Cost: 5.944210\n",
            "Epoch   26/50 hypothesis:tensor([154.0545, 185.1137, 175.7535, 198.6133, 141.2178]) Cost: 5.941589\n",
            "Epoch   27/50 hypothesis:tensor([154.0543, 185.1135, 175.7545, 198.6127, 141.2178]) Cost: 5.939054\n",
            "Epoch   28/50 hypothesis:tensor([154.0542, 185.1132, 175.7556, 198.6122, 141.2179]) Cost: 5.936491\n",
            "Epoch   29/50 hypothesis:tensor([154.0541, 185.1129, 175.7567, 198.6116, 141.2180]) Cost: 5.933901\n",
            "Epoch   30/50 hypothesis:tensor([154.0539, 185.1126, 175.7578, 198.6110, 141.2180]) Cost: 5.931320\n",
            "Epoch   31/50 hypothesis:tensor([154.0538, 185.1123, 175.7588, 198.6104, 141.2181]) Cost: 5.928727\n",
            "Epoch   32/50 hypothesis:tensor([154.0536, 185.1120, 175.7599, 198.6098, 141.2181]) Cost: 5.926240\n",
            "Epoch   33/50 hypothesis:tensor([154.0535, 185.1118, 175.7610, 198.6093, 141.2182]) Cost: 5.923646\n",
            "Epoch   34/50 hypothesis:tensor([154.0533, 185.1115, 175.7620, 198.6086, 141.2183]) Cost: 5.921031\n",
            "Epoch   35/50 hypothesis:tensor([154.0532, 185.1112, 175.7631, 198.6081, 141.2183]) Cost: 5.918510\n",
            "Epoch   36/50 hypothesis:tensor([154.0530, 185.1109, 175.7641, 198.6075, 141.2184]) Cost: 5.915939\n",
            "Epoch   37/50 hypothesis:tensor([154.0529, 185.1106, 175.7652, 198.6069, 141.2184]) Cost: 5.913393\n",
            "Epoch   38/50 hypothesis:tensor([154.0527, 185.1103, 175.7662, 198.6063, 141.2185]) Cost: 5.910825\n",
            "Epoch   39/50 hypothesis:tensor([154.0526, 185.1100, 175.7673, 198.6057, 141.2185]) Cost: 5.908256\n",
            "Epoch   40/50 hypothesis:tensor([154.0524, 185.1097, 175.7683, 198.6051, 141.2186]) Cost: 5.905738\n",
            "Epoch   41/50 hypothesis:tensor([154.0523, 185.1094, 175.7694, 198.6045, 141.2187]) Cost: 5.903165\n",
            "Epoch   42/50 hypothesis:tensor([154.0521, 185.1091, 175.7705, 198.6039, 141.2187]) Cost: 5.900594\n",
            "Epoch   43/50 hypothesis:tensor([154.0520, 185.1089, 175.7715, 198.6034, 141.2188]) Cost: 5.898070\n",
            "Epoch   44/50 hypothesis:tensor([154.0518, 185.1086, 175.7726, 198.6028, 141.2188]) Cost: 5.895528\n",
            "Epoch   45/50 hypothesis:tensor([154.0517, 185.1083, 175.7736, 198.6022, 141.2189]) Cost: 5.892972\n",
            "Epoch   46/50 hypothesis:tensor([154.0515, 185.1080, 175.7747, 198.6016, 141.2189]) Cost: 5.890395\n",
            "Epoch   47/50 hypothesis:tensor([154.0514, 185.1077, 175.7757, 198.6010, 141.2190]) Cost: 5.887882\n",
            "Epoch   48/50 hypothesis:tensor([154.0512, 185.1074, 175.7768, 198.6004, 141.2191]) Cost: 5.885315\n",
            "Epoch   49/50 hypothesis:tensor([154.0511, 185.1071, 175.7778, 198.5998, 141.2191]) Cost: 5.882764\n"
          ]
        }
      ]
    },
    {
      "cell_type": "code",
      "source": [
        "import torch\n",
        "\n",
        "class MultivariateLinearRegressionModel(torch.nn.Module):\n",
        "    def __init__(self):\n",
        "        super().__init__()\n",
        "        self.linear = torch.nn.Linear(3, 1)\n",
        "\n",
        "    def forward(self, x):\n",
        "        return self.linear(x)\n",
        "\n",
        "x_train = torch.FloatTensor([[73, 80, 75],\n",
        "                            [93, 88, 93],\n",
        "                            [89, 91, 80],\n",
        "                            [96, 98, 100],\n",
        "                            [73, 66, 70]])\n",
        "y_train = torch.FloatTensor([[152], [185], [180], [196], [142]])\n",
        "\n",
        "model = MultivariateLinearRegressionModel()\n",
        "\n",
        "optimizer = torch.optim.SGD(model.parameters(), lr = 1e-5)\n",
        "epochs = 50\n",
        "\n",
        "for epoch in range(0, epochs):\n",
        "  hypothesis = model(x_train)\n",
        "  cost = torch.nn.functional.mse_loss(hypothesis, y_train)\n",
        "  optimizer.zero_grad()\n",
        "  cost.backward()\n",
        "  optimizer.step()\n",
        "\n",
        "  print('Epoch {:4d}/{} hypothesis:{} Cost: {:.6f}'.format(\n",
        "      epoch, epochs, hypothesis.squeeze().detach(),cost.item()))"
      ],
      "metadata": {
        "colab": {
          "base_uri": "https://localhost:8080/"
        },
        "id": "1Wnsyvw3pjQR",
        "outputId": "621a588b-ff7d-46a4-92cf-800bcdc03163"
      },
      "execution_count": 46,
      "outputs": [
        {
          "output_type": "stream",
          "name": "stdout",
          "text": [
            "Epoch    0/50 hypothesis:tensor([-40.9351, -46.9649, -50.3703, -50.3092, -36.5263]) Cost: 47328.394531\n",
            "Epoch    1/50 hypothesis:tensor([43.3324, 54.2923, 45.7511, 58.3361, 40.7162]) Cost: 15225.132812\n",
            "Epoch    2/50 hypothesis:tensor([ 91.1064, 111.6977, 100.2463, 119.9301,  84.5072]) Cost: 4906.794434\n",
            "Epoch    3/50 hypothesis:tensor([118.1910, 144.2422, 131.1424, 154.8491, 109.3335]) Cost: 1590.363159\n",
            "Epoch    4/50 hypothesis:tensor([133.5462, 162.6922, 148.6594, 174.6453, 123.4081]) Cost: 524.419800\n",
            "Epoch    5/50 hypothesis:tensor([142.2516, 173.1516, 158.5913, 185.8679, 131.3872]) Cost: 181.807281\n",
            "Epoch    6/50 hypothesis:tensor([147.1871, 179.0810, 164.2231, 192.2299, 135.9107]) Cost: 71.680504\n",
            "Epoch    7/50 hypothesis:tensor([149.9853, 182.4421, 167.4170, 195.8362, 138.4750]) Cost: 36.277477\n",
            "Epoch    8/50 hypothesis:tensor([151.5717, 184.3472, 169.2287, 197.8803, 139.9286]) Cost: 24.891209\n",
            "Epoch    9/50 hypothesis:tensor([152.4712, 185.4268, 170.2569, 199.0387, 140.7525]) Cost: 21.224350\n",
            "Epoch   10/50 hypothesis:tensor([152.9813, 186.0385, 170.8409, 199.6949, 141.2194]) Cost: 20.038630\n",
            "Epoch   11/50 hypothesis:tensor([153.2706, 186.3848, 171.1729, 200.0665, 141.4840]) Cost: 19.650307\n",
            "Epoch   12/50 hypothesis:tensor([153.4347, 186.5807, 171.3623, 200.2767, 141.6338]) Cost: 19.518291\n",
            "Epoch   13/50 hypothesis:tensor([153.5278, 186.6914, 171.4706, 200.3954, 141.7185]) Cost: 19.468710\n",
            "Epoch   14/50 hypothesis:tensor([153.5807, 186.7537, 171.5331, 200.4622, 141.7664]) Cost: 19.445553\n",
            "Epoch   15/50 hypothesis:tensor([153.6107, 186.7886, 171.5696, 200.4996, 141.7934]) Cost: 19.430950\n",
            "Epoch   16/50 hypothesis:tensor([153.6279, 186.8079, 171.5913, 200.5204, 141.8085]) Cost: 19.419107\n",
            "Epoch   17/50 hypothesis:tensor([153.6377, 186.8185, 171.6046, 200.5316, 141.8169]) Cost: 19.408043\n",
            "Epoch   18/50 hypothesis:tensor([153.6434, 186.8240, 171.6132, 200.5376, 141.8214]) Cost: 19.397367\n",
            "Epoch   19/50 hypothesis:tensor([153.6467, 186.8267, 171.6191, 200.5405, 141.8239]) Cost: 19.386818\n",
            "Epoch   20/50 hypothesis:tensor([153.6486, 186.8279, 171.6235, 200.5416, 141.8251]) Cost: 19.376225\n",
            "Epoch   21/50 hypothesis:tensor([153.6498, 186.8280, 171.6271, 200.5418, 141.8256]) Cost: 19.365643\n",
            "Epoch   22/50 hypothesis:tensor([153.6506, 186.8277, 171.6301, 200.5415, 141.8257]) Cost: 19.355127\n",
            "Epoch   23/50 hypothesis:tensor([153.6512, 186.8271, 171.6329, 200.5408, 141.8256]) Cost: 19.344555\n",
            "Epoch   24/50 hypothesis:tensor([153.6516, 186.8264, 171.6355, 200.5400, 141.8253]) Cost: 19.334042\n",
            "Epoch   25/50 hypothesis:tensor([153.6519, 186.8255, 171.6380, 200.5390, 141.8250]) Cost: 19.323509\n",
            "Epoch   26/50 hypothesis:tensor([153.6522, 186.8246, 171.6405, 200.5380, 141.8247]) Cost: 19.312952\n",
            "Epoch   27/50 hypothesis:tensor([153.6524, 186.8236, 171.6429, 200.5370, 141.8243]) Cost: 19.302521\n",
            "Epoch   28/50 hypothesis:tensor([153.6526, 186.8227, 171.6453, 200.5359, 141.8239]) Cost: 19.292051\n",
            "Epoch   29/50 hypothesis:tensor([153.6529, 186.8217, 171.6477, 200.5349, 141.8235]) Cost: 19.281523\n",
            "Epoch   30/50 hypothesis:tensor([153.6531, 186.8207, 171.6501, 200.5338, 141.8231]) Cost: 19.270964\n",
            "Epoch   31/50 hypothesis:tensor([153.6533, 186.8198, 171.6525, 200.5327, 141.8227]) Cost: 19.260546\n",
            "Epoch   32/50 hypothesis:tensor([153.6535, 186.8188, 171.6549, 200.5316, 141.8223]) Cost: 19.250072\n",
            "Epoch   33/50 hypothesis:tensor([153.6537, 186.8178, 171.6573, 200.5305, 141.8219]) Cost: 19.239597\n",
            "Epoch   34/50 hypothesis:tensor([153.6540, 186.8168, 171.6597, 200.5294, 141.8215]) Cost: 19.229116\n",
            "Epoch   35/50 hypothesis:tensor([153.6542, 186.8159, 171.6620, 200.5284, 141.8211]) Cost: 19.218634\n",
            "Epoch   36/50 hypothesis:tensor([153.6544, 186.8149, 171.6644, 200.5273, 141.8207]) Cost: 19.208179\n",
            "Epoch   37/50 hypothesis:tensor([153.6546, 186.8139, 171.6668, 200.5262, 141.8203]) Cost: 19.197735\n",
            "Epoch   38/50 hypothesis:tensor([153.6548, 186.8129, 171.6692, 200.5251, 141.8199]) Cost: 19.187353\n",
            "Epoch   39/50 hypothesis:tensor([153.6550, 186.8119, 171.6716, 200.5240, 141.8195]) Cost: 19.176901\n",
            "Epoch   40/50 hypothesis:tensor([153.6552, 186.8109, 171.6740, 200.5230, 141.8191]) Cost: 19.166414\n",
            "Epoch   41/50 hypothesis:tensor([153.6555, 186.8100, 171.6763, 200.5219, 141.8187]) Cost: 19.156040\n",
            "Epoch   42/50 hypothesis:tensor([153.6557, 186.8090, 171.6787, 200.5208, 141.8183]) Cost: 19.145611\n",
            "Epoch   43/50 hypothesis:tensor([153.6559, 186.8080, 171.6811, 200.5197, 141.8179]) Cost: 19.135191\n",
            "Epoch   44/50 hypothesis:tensor([153.6561, 186.8070, 171.6835, 200.5187, 141.8175]) Cost: 19.124805\n",
            "Epoch   45/50 hypothesis:tensor([153.6563, 186.8061, 171.6859, 200.5176, 141.8171]) Cost: 19.114412\n",
            "Epoch   46/50 hypothesis:tensor([153.6565, 186.8051, 171.6882, 200.5165, 141.8167]) Cost: 19.104078\n",
            "Epoch   47/50 hypothesis:tensor([153.6568, 186.8041, 171.6906, 200.5154, 141.8163]) Cost: 19.093651\n",
            "Epoch   48/50 hypothesis:tensor([153.6570, 186.8031, 171.6930, 200.5143, 141.8159]) Cost: 19.083263\n",
            "Epoch   49/50 hypothesis:tensor([153.6572, 186.8022, 171.6954, 200.5133, 141.8155]) Cost: 19.072893\n"
          ]
        }
      ]
    },
    {
      "cell_type": "code",
      "source": [
        "import torch\n",
        "\n",
        "class MultivariateLinearRegressionModel(torch.nn.Module):\n",
        "    def __init__(self):\n",
        "        super().__init__()\n",
        "        self.linear = torch.nn.Linear(3, 1)\n",
        "\n",
        "    def forward(self, x):\n",
        "        return self.linear(x)\n",
        "\n",
        "class CustomDataset(torch.utils.data.Dataset):\n",
        "  def __init__(self):\n",
        "    self.x_data = [[73, 80, 75],\n",
        "                   [93, 88, 93],\n",
        "                   [89, 91, 80],\n",
        "                   [96, 98, 100],\n",
        "                   [73, 66, 70]]\n",
        "    self.y_data = [[152], [185], [180], [196], [142]]\n",
        "\n",
        "\n",
        "  def __len__(self):\n",
        "    return len(self.x_data)\n",
        "\n",
        "  def __getitem__(self, idx):\n",
        "    x = torch.FloatTensor(self.x_data[idx])\n",
        "    y = torch.FloatTensor(self.y_data[idx])\n",
        "\n",
        "    return x, y\n",
        "    \n",
        "model = MultivariateLinearRegressionModel()\n",
        "dataset = CustomDataset()\n",
        "dataloader = torch.utils.data.DataLoader(dataset, batch_size=2, shuffle=True)\n",
        "optimizer = torch.optim.SGD(model.parameters(), lr = 1e-5)\n",
        "epochs = 20\n",
        "cost_list = []\n",
        "\n",
        "for epoch in range(0, epochs):\n",
        "  for batch_idx, samples in enumerate(dataloader):\n",
        "    x_train, y_train = samples\n",
        "    hypothesis = model(x_train)\n",
        "    cost = torch.nn.functional.mse_loss(hypothesis, y_train)\n",
        "    optimizer.zero_grad()\n",
        "    cost.backward()\n",
        "    optimizer.step()\n",
        "    cost_list.append(cost.item())\n",
        "\n",
        "    print('Epoch {:4d}/{} Batch:{}/{} Cost: {:.6f}'.format(\n",
        "        epoch, epochs, batch_idx+1, len(dataloader), cost.item()))"
      ],
      "metadata": {
        "colab": {
          "base_uri": "https://localhost:8080/"
        },
        "id": "3h380GqPsRCl",
        "outputId": "f891d80a-4ffb-455a-91d0-ba1dd24fd612"
      },
      "execution_count": 64,
      "outputs": [
        {
          "output_type": "stream",
          "name": "stdout",
          "text": [
            "Epoch    0/20 Batch:1/3 Cost: 2.560405\n",
            "Epoch    0/20 Batch:2/3 Cost: 48.264320\n",
            "Epoch    0/20 Batch:3/3 Cost: 4.079801\n",
            "Epoch    1/20 Batch:1/3 Cost: 7.114222\n",
            "Epoch    1/20 Batch:2/3 Cost: 40.930958\n",
            "Epoch    1/20 Batch:3/3 Cost: 0.000585\n",
            "Epoch    2/20 Batch:1/3 Cost: 12.321860\n",
            "Epoch    2/20 Batch:2/3 Cost: 37.182034\n",
            "Epoch    2/20 Batch:3/3 Cost: 0.080446\n",
            "Epoch    3/20 Batch:1/3 Cost: 2.252739\n",
            "Epoch    3/20 Batch:2/3 Cost: 35.886665\n",
            "Epoch    3/20 Batch:3/3 Cost: 5.181570\n",
            "Epoch    4/20 Batch:1/3 Cost: 8.102455\n",
            "Epoch    4/20 Batch:2/3 Cost: 41.032372\n",
            "Epoch    4/20 Batch:3/3 Cost: 5.658832\n",
            "Epoch    5/20 Batch:1/3 Cost: 28.854527\n",
            "Epoch    5/20 Batch:2/3 Cost: 9.927103\n",
            "Epoch    5/20 Batch:3/3 Cost: 19.219345\n",
            "Epoch    6/20 Batch:1/3 Cost: 1.766246\n",
            "Epoch    6/20 Batch:2/3 Cost: 43.498631\n",
            "Epoch    6/20 Batch:3/3 Cost: 1.671413\n",
            "Epoch    7/20 Batch:1/3 Cost: 0.719151\n",
            "Epoch    7/20 Batch:2/3 Cost: 4.676467\n",
            "Epoch    7/20 Batch:3/3 Cost: 81.810333\n",
            "Epoch    8/20 Batch:1/3 Cost: 9.559232\n",
            "Epoch    8/20 Batch:2/3 Cost: 18.462709\n",
            "Epoch    8/20 Batch:3/3 Cost: 66.262817\n",
            "Epoch    9/20 Batch:1/3 Cost: 12.448676\n",
            "Epoch    9/20 Batch:2/3 Cost: 21.042027\n",
            "Epoch    9/20 Batch:3/3 Cost: 63.509247\n",
            "Epoch   10/20 Batch:1/3 Cost: 37.437508\n",
            "Epoch   10/20 Batch:2/3 Cost: 26.892649\n",
            "Epoch   10/20 Batch:3/3 Cost: 0.753100\n",
            "Epoch   11/20 Batch:1/3 Cost: 3.683010\n",
            "Epoch   11/20 Batch:2/3 Cost: 34.576004\n",
            "Epoch   11/20 Batch:3/3 Cost: 5.834477\n",
            "Epoch   12/20 Batch:1/3 Cost: 2.088697\n",
            "Epoch   12/20 Batch:2/3 Cost: 38.203842\n",
            "Epoch   12/20 Batch:3/3 Cost: 0.008918\n",
            "Epoch   13/20 Batch:1/3 Cost: 11.193247\n",
            "Epoch   13/20 Batch:2/3 Cost: 1.029967\n",
            "Epoch   13/20 Batch:3/3 Cost: 72.148872\n",
            "Epoch   14/20 Batch:1/3 Cost: 36.157051\n",
            "Epoch   14/20 Batch:2/3 Cost: 11.809364\n",
            "Epoch   14/20 Batch:3/3 Cost: 0.002546\n",
            "Epoch   15/20 Batch:1/3 Cost: 10.296435\n",
            "Epoch   15/20 Batch:2/3 Cost: 0.763299\n",
            "Epoch   15/20 Batch:3/3 Cost: 71.463318\n",
            "Epoch   16/20 Batch:1/3 Cost: 17.473909\n",
            "Epoch   16/20 Batch:2/3 Cost: 20.910652\n",
            "Epoch   16/20 Batch:3/3 Cost: 43.787979\n",
            "Epoch   17/20 Batch:1/3 Cost: 4.641696\n",
            "Epoch   17/20 Batch:2/3 Cost: 39.962734\n",
            "Epoch   17/20 Batch:3/3 Cost: 4.473571\n",
            "Epoch   18/20 Batch:1/3 Cost: 30.529209\n",
            "Epoch   18/20 Batch:2/3 Cost: 17.322781\n",
            "Epoch   18/20 Batch:3/3 Cost: 1.000946\n",
            "Epoch   19/20 Batch:1/3 Cost: 1.045448\n",
            "Epoch   19/20 Batch:2/3 Cost: 31.849401\n",
            "Epoch   19/20 Batch:3/3 Cost: 26.635874\n"
          ]
        }
      ]
    },
    {
      "cell_type": "code",
      "source": [
        "import matplotlib.pyplot as plt\n",
        "print(cost_list)\n",
        "print(len(cost_list))\n",
        "plt.plot(cost_list)\n",
        "plt.ylim([0, 100])\n",
        "plt.show()"
      ],
      "metadata": {
        "colab": {
          "base_uri": "https://localhost:8080/",
          "height": 325
        },
        "id": "n0iNpAq5vxH0",
        "outputId": "6f9c5a41-42e3-4fdd-94b6-9da29a0d71e7"
      },
      "execution_count": 69,
      "outputs": [
        {
          "output_type": "stream",
          "name": "stdout",
          "text": [
            "[2.5604052543640137, 48.264320373535156, 4.079800605773926, 7.114221572875977, 40.93095779418945, 0.0005849229637533426, 12.321860313415527, 37.18203353881836, 0.08044618368148804, 2.252739429473877, 35.88666534423828, 5.181569576263428, 8.102455139160156, 41.032371520996094, 5.65883207321167, 28.85452651977539, 9.927103042602539, 19.219345092773438, 1.76624596118927, 43.49863052368164, 1.6714130640029907, 0.7191508412361145, 4.676467418670654, 81.81033325195312, 9.559231758117676, 18.462709426879883, 66.2628173828125, 12.448676109313965, 21.04202651977539, 63.509246826171875, 37.43750762939453, 26.892648696899414, 0.7530996203422546, 3.6830101013183594, 34.57600402832031, 5.834477424621582, 2.0886969566345215, 38.20384216308594, 0.0089182797819376, 11.193246841430664, 1.0299668312072754, 72.14887237548828, 36.15705108642578, 11.809364318847656, 0.002546293893828988, 10.296435356140137, 0.7632988691329956, 71.46331787109375, 17.473909378051758, 20.91065216064453, 43.78797912597656, 4.641696453094482, 39.96273422241211, 4.473570823669434, 30.52920913696289, 17.32278060913086, 1.000946283340454, 1.0454481840133667, 31.849401473999023, 26.635873794555664]\n",
            "60\n"
          ]
        },
        {
          "output_type": "display_data",
          "data": {
            "text/plain": [
              "<Figure size 432x288 with 1 Axes>"
            ],
            "image/png": "[encoded data removed]"
          },
          "metadata": {
            "needs_background": "light"
          }
        }
      ]
    },
    {
      "cell_type": "markdown",
      "source": [
        "### Logistic Regrssion"
      ],
      "metadata": {
        "id": "JhCqxIOez7v0"
      }
    },
    {
      "cell_type": "code",
      "source": [
        "import torch\n",
        "\n",
        "torch.manual_seed(1)\n",
        "x_data = [[1,2], [2,3], [3,1], [4,3], [5, 3], [6, 2]]\n",
        "y_data = [[0], [0], [0], [1], [1], [1]]\n",
        "\n",
        "x_train = torch.FloatTensor(x_data)\n",
        "y_train = torch.FloatTensor(y_data)\n",
        "\n",
        "w = torch.zeros((2, 1), requires_grad=True)\n",
        "b = torch.zeros(1, requires_grad=True)\n",
        "\n",
        "#hypothesis = 1/(1+torch.exp(-(x_train.matmul(w) + b))) #아래와 같음\n",
        "optimizer = torch.optim.SGD([w, b], lr = 1)\n",
        "epochs = 1000\n",
        "\n",
        "for epoch in range(epochs+1):\n",
        "  hypothesis = torch.sigmoid(x_train.matmul(w) + b)\n",
        "  cost = torch.nn.functional.binary_cross_entropy(hypothesis, y_train)\n",
        "\n",
        "  optimizer.zero_grad()\n",
        "  cost.backward()\n",
        "  optimizer.step()\n",
        "\n",
        "  if(epoch % 100 == 0):\n",
        "    print('Epoch {:4d}/{} Cost:{:.6f}'.format(\n",
        "        epoch, epochs, cost.item()))\n"
      ],
      "metadata": {
        "colab": {
          "base_uri": "https://localhost:8080/"
        },
        "id": "uXNGP1sSwHZt",
        "outputId": "02d6875e-98f5-46fa-a22f-718947e4da32"
      },
      "execution_count": 86,
      "outputs": [
        {
          "output_type": "stream",
          "name": "stdout",
          "text": [
            "Epoch    0/1000 Cost:0.693147\n",
            "Epoch  100/1000 Cost:0.134722\n",
            "Epoch  200/1000 Cost:0.080643\n",
            "Epoch  300/1000 Cost:0.057900\n",
            "Epoch  400/1000 Cost:0.045300\n",
            "Epoch  500/1000 Cost:0.037261\n",
            "Epoch  600/1000 Cost:0.031672\n",
            "Epoch  700/1000 Cost:0.027556\n",
            "Epoch  800/1000 Cost:0.024394\n",
            "Epoch  900/1000 Cost:0.021888\n",
            "Epoch 1000/1000 Cost:0.019852\n"
          ]
        }
      ]
    },
    {
      "cell_type": "code",
      "source": [
        "print(hypothesis[:5])\n",
        "prediction = hypothesis >= torch.FloatTensor([0.5])\n",
        "print(prediction[:5])"
      ],
      "metadata": {
        "colab": {
          "base_uri": "https://localhost:8080/"
        },
        "id": "sC6ICJ6R6A6W",
        "outputId": "561fdb40-2818-4d2f-f2f2-2a30e3e5a7a9"
      },
      "execution_count": 87,
      "outputs": [
        {
          "output_type": "stream",
          "name": "stdout",
          "text": [
            "tensor([[2.7711e-04],\n",
            "        [3.1636e-02],\n",
            "        [3.9014e-02],\n",
            "        [9.5618e-01],\n",
            "        [9.9823e-01]], grad_fn=<SliceBackward0>)\n",
            "tensor([[False],\n",
            "        [False],\n",
            "        [False],\n",
            "        [ True],\n",
            "        [ True]])\n"
          ]
        }
      ]
    },
    {
      "cell_type": "markdown",
      "source": [
        "### Softmax Classification"
      ],
      "metadata": {
        "id": "zFgNntdYC7cP"
      }
    },
    {
      "cell_type": "code",
      "source": [
        "import torch\n",
        "torch.manual_seed(1)"
      ],
      "metadata": {
        "colab": {
          "base_uri": "https://localhost:8080/"
        },
        "id": "2kd0KGBACsrc",
        "outputId": "56f6ca33-0c4b-4b52-e98a-b086dd5ed71e"
      },
      "execution_count": 89,
      "outputs": [
        {
          "output_type": "execute_result",
          "data": {
            "text/plain": [
              "<torch._C.Generator at 0x7f787a21c8f0>"
            ]
          },
          "metadata": {},
          "execution_count": 89
        }
      ]
    },
    {
      "cell_type": "code",
      "source": [
        "tensor1 = torch.FloatTensor([[1,2,3,4]])\n",
        "tensor2 = torch.FloatTensor([[5,6,7,8]])\n",
        "\n",
        "print(torch.cat([tensor1, tensor2], axis=0))"
      ],
      "metadata": {
        "colab": {
          "base_uri": "https://localhost:8080/"
        },
        "id": "b92GVhY_72sv",
        "outputId": "f22d6f24-3006-4510-f557-9542ad72cac8"
      },
      "execution_count": 91,
      "outputs": [
        {
          "output_type": "stream",
          "name": "stdout",
          "text": [
            "tensor([[1., 2., 3., 4.],\n",
            "        [5., 6., 7., 8.]])\n"
          ]
        }
      ]
    },
    {
      "cell_type": "code",
      "source": [
        ""
      ],
      "metadata": {
        "id": "HV5av9hfH_vy"
      },
      "execution_count": null,
      "outputs": []
    }
  ]
}